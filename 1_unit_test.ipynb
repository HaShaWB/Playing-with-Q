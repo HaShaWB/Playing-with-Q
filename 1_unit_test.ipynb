{
 "cells": [
  {
   "cell_type": "code",
   "execution_count": null,
   "id": "64b97b22",
   "metadata": {},
   "outputs": [],
   "source": [
    "import os\n",
    "\n",
    "from dotenv import load_dotenv\n",
    "from qiskit_ibm_runtime import QiskitRuntimeService, SamplerV2, EstimatorV2\n",
    "from qiskit_aer import AerSimulator\n",
    "\n",
    "## Environment\n",
    "load_dotenv(override=True)\n",
    "\n",
    "import logging\n",
    "logging.getLogger('qiskit_ibm_runtime').setLevel(logging.ERROR)\n",
    "\n",
    "\n",
    "## Connecting to IBM-Q\n",
    "# QiskitRuntimeService.save_account(\n",
    "#     token=os.getenv(\"IBM_Q_API_KEY\"),\n",
    "#     set_as_default=True,\n",
    "# )\n",
    "\n",
    "service = QiskitRuntimeService()\n",
    "print(\"Available backends:\")\n",
    "backends = service.backends()\n",
    "\n",
    "for backend in backends:\n",
    "    status = \"simulator\" if backend.simulator else \"hardware\"\n",
    "    print(f\"  • {backend.name:25s} | {backend.num_qubits:2d} qubits | {status}\")\n",
    "\n",
    "\n",
    "## Backend Service Client\n",
    "simulator = AerSimulator()\n",
    "hardware = service.least_busy()\n",
    "\n",
    "sampler_sim = SamplerV2(simulator)\n",
    "sampler_hardware = SamplerV2(hardware)\n",
    "\n",
    "estimator_sim = EstimatorV2(simulator)\n",
    "estimator_hardware = EstimatorV2(hardware)"
   ]
  }
 ],
 "metadata": {
  "kernelspec": {
   "display_name": "qc",
   "language": "python",
   "name": "python3"
  },
  "language_info": {
   "codemirror_mode": {
    "name": "ipython",
    "version": 3
   },
   "file_extension": ".py",
   "mimetype": "text/x-python",
   "name": "python",
   "nbconvert_exporter": "python",
   "pygments_lexer": "ipython3",
   "version": "3.12.11"
  }
 },
 "nbformat": 4,
 "nbformat_minor": 5
}

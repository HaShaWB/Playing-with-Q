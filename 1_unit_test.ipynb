{
 "cells": [
  {
   "cell_type": "code",
   "execution_count": null,
   "id": "64b97b22",
   "metadata": {},
   "outputs": [],
   "source": [
    "%matplotlib inline\n",
    "\n",
    "import os\n",
    "from dotenv import load_dotenv\n",
    "from qiskit_ibm_runtime import QiskitRuntimeService, SamplerV2, EstimatorV2\n",
    "from qiskit_aer import AerSimulator\n",
    "from qiskit import QuantumCircuit\n",
    "\n",
    "from qc_utils import run_and_visualize, compare_circuits\n",
    "\n",
    "\n",
    "## Environment\n",
    "load_dotenv(override=True)\n",
    "\n",
    "USE_HARDWARE = True\n",
    "\n",
    "import logging\n",
    "logging.getLogger('qiskit_ibm_runtime').setLevel(logging.ERROR)\n",
    "\n",
    "\n",
    "\n",
    "simulator = AerSimulator()\n",
    "sampler_sim = SamplerV2(simulator)\n",
    "estimator_sim = EstimatorV2(simulator)\n",
    "\n",
    "\n",
    "\n",
    "if USE_HARDWARE:\n",
    "    # QiskitRuntimeService.save_account(\n",
    "    #     token=os.getenv(\"IBM_Q_API_KEY\"),\n",
    "    #     set_as_default=True,\n",
    "    # )\n",
    "\n",
    "    service = QiskitRuntimeService()\n",
    "    backends = service.backends()\n",
    "\n",
    "    # print(\"Available backends:\")\n",
    "    # for backend in backends:\n",
    "    #     status = \"simulator\" if backend.simulator else \"hardware\"\n",
    "    #     print(f\"  • {backend.name:25s} | {backend.num_qubits:2d} qubits | {status}\")\n",
    "\n",
    "    hardware = service.least_busy()\n",
    "    sampler_hw = SamplerV2(hardware)\n",
    "    estimator_hw = EstimatorV2(hardware)\n",
    "    \n",
    "    print(f\"Backend: {hardware.name}\")\n",
    "    print(f\"Basis gates: {hardware.configuration().basis_gates}\")\n",
    "    print(f\"Coupling map: {hardware.configuration().coupling_map}\")"
   ]
  },
  {
   "cell_type": "markdown",
   "id": "e7e8c6be",
   "metadata": {},
   "source": [
    "## Single-qubit Gates"
   ]
  },
  {
   "cell_type": "markdown",
   "id": "973ec520",
   "metadata": {},
   "source": [
    "### Pauli Gates\n",
    "- X, Y, Z 대칭 게이트\n",
    "- Y, Z -> 다른 게이트의 조합으로 표현\n",
    "\n",
    "- X gate\n",
    "$$X = \\begin{pmatrix} 0 & 1 \\\\ 1 & 0 \\end{pmatrix}$$\n",
    "\n",
    "- Y gate\n",
    "$$Y = \\begin{pmatrix} 0 & -i \\\\ i & 0 \\end{pmatrix}$$\n",
    "\n",
    "- Z gate\n",
    "$$Z = \\begin{pmatrix} 1 & 0 \\\\ 0 & -1 \\end{pmatrix}$$"
   ]
  },
  {
   "cell_type": "code",
   "execution_count": null,
   "id": "eb183775",
   "metadata": {},
   "outputs": [],
   "source": [
    "qc_x = QuantumCircuit(1)\n",
    "qc_x.x(0)\n",
    "\n",
    "qc_y = QuantumCircuit(1)\n",
    "qc_y.y(0)\n",
    "\n",
    "qc_z = QuantumCircuit(1)\n",
    "qc_z.z(0)\n",
    "\n",
    "\n",
    "\n",
    "print(\"Hardware\")\n",
    "result_hw = compare_circuits([qc_x, qc_y, qc_z], labels=['X', 'Y', 'Z'], \n",
    "                                backend=hardware, show_circuit=True, show_histogram=True,\n",
    "                                compare_with_ideal=True)"
   ]
  }
 ],
 "metadata": {
  "kernelspec": {
   "display_name": "qc",
   "language": "python",
   "name": "python3"
  },
  "language_info": {
   "codemirror_mode": {
    "name": "ipython",
    "version": 3
   },
   "file_extension": ".py",
   "mimetype": "text/x-python",
   "name": "python",
   "nbconvert_exporter": "python",
   "pygments_lexer": "ipython3",
   "version": "3.12.11"
  }
 },
 "nbformat": 4,
 "nbformat_minor": 5
}

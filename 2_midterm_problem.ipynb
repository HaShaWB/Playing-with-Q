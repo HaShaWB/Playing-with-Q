{
 "cells": [
  {
   "cell_type": "code",
   "execution_count": null,
   "id": "4ea96eee",
   "metadata": {},
   "outputs": [],
   "source": [
    "import numpy as np\n",
    "from dotenv import load_dotenv\n",
    "from qiskit_ibm_runtime import QiskitRuntimeService, SamplerV2, EstimatorV2\n",
    "from qiskit_aer import AerSimulator\n",
    "from qiskit import QuantumCircuit\n",
    "\n",
    "from qc_utils import run_and_visualize, compare_circuits\n",
    "\n",
    "\n",
    "PI = np.pi\n",
    "\n",
    "## Environment\n",
    "load_dotenv(override=True)\n",
    "\n",
    "USE_HARDWARE = True\n",
    "\n",
    "import logging\n",
    "logging.getLogger('qiskit_ibm_runtime').setLevel(logging.ERROR)\n",
    "\n",
    "\n",
    "\n",
    "simulator = AerSimulator()\n",
    "sampler_sim = SamplerV2(simulator)\n",
    "estimator_sim = EstimatorV2(simulator)\n",
    "\n",
    "\n",
    "\n",
    "if USE_HARDWARE:\n",
    "    # import os\n",
    "    # QiskitRuntimeService.save_account(\n",
    "    #     token=os.getenv(\"IBM_Q_API_KEY\"),\n",
    "    #     set_as_default=True,\n",
    "    # )\n",
    "\n",
    "    service = QiskitRuntimeService()\n",
    "    backends = service.backends()\n",
    "\n",
    "    print(\"Available backends:\")\n",
    "    for backend in backends:\n",
    "        status = \"simulator\" if backend.simulator else \"hardware\"\n",
    "        print(f\"  • {backend.name:25s} | {backend.num_qubits:2d} qubits | {status}\")\n",
    "\n",
    "    hardware = service.least_busy()\n",
    "    sampler_hw = SamplerV2(hardware)\n",
    "    estimator_hw = EstimatorV2(hardware)\n",
    "    \n",
    "    print(f\"Backend: {hardware.name}\")\n",
    "    print(f\"Basis gates: {hardware.configuration().basis_gates}\")\n",
    "    print(f\"Coupling map: {hardware.configuration().coupling_map}\")"
   ]
  },
  {
   "cell_type": "markdown",
   "id": "35467c67",
   "metadata": {},
   "source": [
    "### 1. |0⟩ 상태 초기화"
   ]
  },
  {
   "cell_type": "code",
   "execution_count": null,
   "id": "e516b5be",
   "metadata": {},
   "outputs": [],
   "source": [
    "qc = QuantumCircuit(1)\n",
    "\n",
    "result = run_and_visualize(qc, backend=hardware, show_circuit=False, show_histogram=True, show_results=True, compare_with_ideal=True)"
   ]
  },
  {
   "cell_type": "markdown",
   "id": "a6cdfcf5",
   "metadata": {},
   "source": [
    "### 2. 기기 별 차이 확인\n",
    "- Heron r1 (ibm_torino)\n",
    "- Heron r2 (ibm_kingston)\n",
    "- Heron r3 (ibm_pittsburgh)\n",
    "- Eagle r3 (ibm_brisbane)"
   ]
  },
  {
   "cell_type": "code",
   "execution_count": null,
   "id": "1c6b9ba6",
   "metadata": {},
   "outputs": [],
   "source": [
    "hardware = service.backend(\"ibm_torino\")\n",
    "result = run_and_visualize(qc, backend=hardware, show_circuit=False, show_histogram=True, show_results=False, compare_with_ideal=False)"
   ]
  },
  {
   "cell_type": "code",
   "execution_count": null,
   "id": "299e9e59",
   "metadata": {},
   "outputs": [],
   "source": [
    "hardware = service.backend(\"ibm_kingston\")\n",
    "result = run_and_visualize(qc, backend=hardware, show_circuit=False, show_histogram=True, show_results=False, compare_with_ideal=False)"
   ]
  },
  {
   "cell_type": "code",
   "execution_count": null,
   "id": "869729bc",
   "metadata": {},
   "outputs": [],
   "source": [
    "hardware = service.backend(\"ibm_pittsburgh\")\n",
    "result = run_and_visualize(qc, backend=hardware, show_circuit=False, show_histogram=True, show_results=False, compare_with_ideal=False)"
   ]
  },
  {
   "cell_type": "code",
   "execution_count": null,
   "id": "e110898c",
   "metadata": {},
   "outputs": [],
   "source": [
    "hardware = service.backend(\"ibm_brisbane\")\n",
    "result = run_and_visualize(qc, backend=hardware, show_circuit=False, show_histogram=True, show_results=False, compare_with_ideal=False)"
   ]
  }
 ],
 "metadata": {
  "kernelspec": {
   "display_name": "qc",
   "language": "python",
   "name": "python3"
  },
  "language_info": {
   "codemirror_mode": {
    "name": "ipython",
    "version": 3
   },
   "file_extension": ".py",
   "mimetype": "text/x-python",
   "name": "python",
   "nbconvert_exporter": "python",
   "pygments_lexer": "ipython3",
   "version": "3.12.11"
  }
 },
 "nbformat": 4,
 "nbformat_minor": 5
}
